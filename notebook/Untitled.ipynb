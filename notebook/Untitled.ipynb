{
 "cells": [
  {
   "cell_type": "markdown",
   "metadata": {},
   "source": [
    "Plotting the Number of Samples"
   ]
  },
  {
   "cell_type": "code",
   "execution_count": 2,
   "metadata": {
    "collapsed": false
   },
   "outputs": [
    {
     "data": {
      "text/plain": [
       "Index(['#SampleID', 'UserName', 'StudyDayNo', 'Treatment', 'Gender',\n",
       "       'Supplement', 'Waist.Circumference', 'Study.Status',\n",
       "       'oilGrams.assigned', 'fecal.status',\n",
       "       ...\n",
       "       'PF_NUTSDS', 'PF_LEGUMES', 'D_TOTAL', 'D_MILK', 'D_YOGURT', 'D_CHEESE',\n",
       "       'OILS', 'SOLID_FATS', 'ADD_SUGARS', 'A_DRINKS'],\n",
       "      dtype='object', length=116)"
      ]
     },
     "execution_count": 2,
     "metadata": {},
     "output_type": "execute_result"
    }
   ],
   "source": [
    "import pandas as pd\n",
    "\n",
    "mapping_file = pd.read_csv(\"../data/mct-v3/new_map_with_treatment.txt\", sep='\\t')\n",
    "mapping_file.columns"
   ]
  }
 ],
 "metadata": {
  "anaconda-cloud": {},
  "kernelspec": {
   "display_name": "Python [conda root]",
   "language": "python",
   "name": "conda-root-py"
  },
  "language_info": {
   "codemirror_mode": {
    "name": "ipython",
    "version": 3
   },
   "file_extension": ".py",
   "mimetype": "text/x-python",
   "name": "python",
   "nbconvert_exporter": "python",
   "pygments_lexer": "ipython3",
   "version": "3.5.2"
  }
 },
 "nbformat": 4,
 "nbformat_minor": 1
}
